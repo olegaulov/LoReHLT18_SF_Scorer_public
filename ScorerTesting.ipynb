{
 "cells": [
  {
   "cell_type": "code",
   "execution_count": 1,
   "metadata": {
    "collapsed": true
   },
   "outputs": [],
   "source": [
    "import unittest\n",
    "from LOREHLT18helper import *\n",
    "__file__ = \"/Users/ona1/Desktop/DryRunRef/blah.py\""
   ]
  },
  {
   "cell_type": "code",
   "execution_count": 2,
   "metadata": {
    "collapsed": true
   },
   "outputs": [],
   "source": [
    "class TestBadSubmission(unittest.TestCase):\n",
    "    def setUp(self):\n",
    "        # Create a temporary directory\n",
    "        self.base_dir = os.path.join(os.path.dirname(os.path.realpath(__file__)),\"tests\" )\n",
    "        self.testfile = os.path.join(self.base_dir, \"1_bad_docid.json\")\n",
    "    def test_1_bad_submission(self):  \n",
    "        with self.assertRaises(SystemExit) as cm:\n",
    "            self.submission = getsubmission(self.testfile, gravity)\n",
    "        self.assertNotEqual(cm.exception.code, 0)\n",
    "    \n",
    "class TestGoodSubmission(unittest.TestCase):\n",
    "    def setUp(self):\n",
    "        # Create a temporary directory\n",
    "        self.base_dir = os.path.join(os.path.dirname(os.path.realpath(__file__)),\"tests\" )\n",
    "        self.testfile = os.path.join(self.base_dir, \"1_good.json\")\n",
    "    \n",
    "    def test_2_good_submission(self):  \n",
    "        with self.assertRaises(SystemExit) as cm:\n",
    "            self.submission = getsubmission(self.testfile, gravity)\n",
    "        self.assertNotEqual(cm.exception.code, 1)\n",
    "        "
   ]
  },
  {
   "cell_type": "code",
   "execution_count": 8,
   "metadata": {},
   "outputs": [
    {
     "name": "stderr",
     "output_type": "stream",
     "text": [
      ".F\n",
      "======================================================================\n",
      "FAIL: test_2_good_submission (__main__.TestGoodSubmission)\n",
      "----------------------------------------------------------------------\n",
      "Traceback (most recent call last):\n",
      "  File \"<ipython-input-2-a91a0039007f>\", line 19, in test_2_good_submission\n",
      "    self.submission = getsubmission(self.testfile, gravity)\n",
      "AssertionError: SystemExit not raised\n",
      "\n",
      "----------------------------------------------------------------------\n",
      "Ran 2 tests in 0.014s\n",
      "\n",
      "FAILED (failures=1)\n"
     ]
    }
   ],
   "source": [
    "if __name__ == '__main__':\n",
    "    unittest.main(argv=['first-arg-is-ignored'], exit=False)"
   ]
  },
  {
   "cell_type": "code",
   "execution_count": 4,
   "metadata": {},
   "outputs": [
    {
     "name": "stdout",
     "output_type": "stream",
     "text": [
      "/Users/ona1/Desktop/DryRunRef\n"
     ]
    }
   ],
   "source": [
    "import os\n",
    "print(os.path.dirname(os.path.realpath(__file__)))"
   ]
  },
  {
   "cell_type": "code",
   "execution_count": 11,
   "metadata": {
    "collapsed": true
   },
   "outputs": [],
   "source": [
    "mybase_dir = os.path.join(os.path.dirname(os.path.realpath(__file__)),\"tests\" )\n",
    "mytestfile = os.path.join(mybase_dir, \"1_good.json\")\n",
    "mysubmission = getsubmission(mytestfile, gravity)\n"
   ]
  },
  {
   "cell_type": "code",
   "execution_count": 12,
   "metadata": {},
   "outputs": [
    {
     "data": {
      "text/html": [
       "<div>\n",
       "<style scoped>\n",
       "    .dataframe tbody tr th:only-of-type {\n",
       "        vertical-align: middle;\n",
       "    }\n",
       "\n",
       "    .dataframe tbody tr th {\n",
       "        vertical-align: top;\n",
       "    }\n",
       "\n",
       "    .dataframe thead th {\n",
       "        text-align: right;\n",
       "    }\n",
       "</style>\n",
       "<table border=\"1\" class=\"dataframe\">\n",
       "  <thead>\n",
       "    <tr style=\"text-align: right;\">\n",
       "      <th></th>\n",
       "      <th>Confidence</th>\n",
       "      <th>DocumentID</th>\n",
       "      <th>Justification_ID</th>\n",
       "      <th>Place_KB_ID</th>\n",
       "      <th>Resolution</th>\n",
       "      <th>Status</th>\n",
       "      <th>Type</th>\n",
       "      <th>urgent</th>\n",
       "      <th>unresolved</th>\n",
       "      <th>current</th>\n",
       "      <th>gravity</th>\n",
       "      <th>frame_count</th>\n",
       "    </tr>\n",
       "  </thead>\n",
       "  <tbody>\n",
       "    <tr>\n",
       "      <th>0</th>\n",
       "      <td>1</td>\n",
       "      <td>CMN_NG_000004_20080609_80020004C</td>\n",
       "      <td>Segment-0</td>\n",
       "      <td>NIL0000021</td>\n",
       "      <td>insufficient</td>\n",
       "      <td>current</td>\n",
       "      <td>evac</td>\n",
       "      <td>False</td>\n",
       "      <td>True</td>\n",
       "      <td>True</td>\n",
       "      <td>False</td>\n",
       "      <td>1</td>\n",
       "    </tr>\n",
       "    <tr>\n",
       "      <th>1</th>\n",
       "      <td>1</td>\n",
       "      <td>CMN_NG_000004_20080609_80020004C</td>\n",
       "      <td>Segment-0</td>\n",
       "      <td>NIL0000021</td>\n",
       "      <td>insufficient</td>\n",
       "      <td>current</td>\n",
       "      <td>med</td>\n",
       "      <td>True</td>\n",
       "      <td>True</td>\n",
       "      <td>True</td>\n",
       "      <td>True</td>\n",
       "      <td>1</td>\n",
       "    </tr>\n",
       "  </tbody>\n",
       "</table>\n",
       "</div>"
      ],
      "text/plain": [
       "   Confidence                        DocumentID Justification_ID Place_KB_ID  \\\n",
       "0           1  CMN_NG_000004_20080609_80020004C        Segment-0  NIL0000021   \n",
       "1           1  CMN_NG_000004_20080609_80020004C        Segment-0  NIL0000021   \n",
       "\n",
       "     Resolution   Status  Type  urgent  unresolved  current  gravity  \\\n",
       "0  insufficient  current  evac   False        True     True    False   \n",
       "1  insufficient  current   med    True        True     True     True   \n",
       "\n",
       "   frame_count  \n",
       "0            1  \n",
       "1            1  "
      ]
     },
     "execution_count": 12,
     "metadata": {},
     "output_type": "execute_result"
    }
   ],
   "source": [
    "mysubmission"
   ]
  },
  {
   "cell_type": "code",
   "execution_count": 5,
   "metadata": {
    "collapsed": true
   },
   "outputs": [],
   "source": [
    "base_dir = os.path.join(os.path.dirname(os.path.realpath(__file__)),\"tests\" )\n",
    "testfile = os.path.join(base_dir, \"1_good.json\")\n",
    "temp = getsubmission(testfile, gravity)"
   ]
  },
  {
   "cell_type": "code",
   "execution_count": 9,
   "metadata": {
    "collapsed": true
   },
   "outputs": [],
   "source": [
    "tmp = temp.to_dict()"
   ]
  },
  {
   "cell_type": "code",
   "execution_count": 10,
   "metadata": {},
   "outputs": [
    {
     "data": {
      "text/plain": [
       "{'Confidence': {0: 1, 1: 1},\n",
       " 'DocumentID': {0: 'CMN_NG_000004_20080609_80020004C',\n",
       "  1: 'CMN_NG_000004_20080609_80020004C'},\n",
       " 'Justification_ID': {0: 'Segment-0', 1: 'Segment-0'},\n",
       " 'Place_KB_ID': {0: 'NIL0000021', 1: 'NIL0000021'},\n",
       " 'Resolution': {0: 'insufficient', 1: 'insufficient'},\n",
       " 'Status': {0: 'current', 1: 'current'},\n",
       " 'Type': {0: 'evac', 1: 'med'},\n",
       " 'current': {0: True, 1: True},\n",
       " 'frame_count': {0: 1, 1: 1},\n",
       " 'gravity': {0: False, 1: True},\n",
       " 'unresolved': {0: True, 1: True},\n",
       " 'urgent': {0: False, 1: True}}"
      ]
     },
     "execution_count": 10,
     "metadata": {},
     "output_type": "execute_result"
    }
   ],
   "source": [
    "tmp"
   ]
  },
  {
   "cell_type": "code",
   "execution_count": null,
   "metadata": {
    "collapsed": true
   },
   "outputs": [],
   "source": []
  }
 ],
 "metadata": {
  "kernelspec": {
   "display_name": "Python 3",
   "language": "python",
   "name": "python3"
  },
  "language_info": {
   "codemirror_mode": {
    "name": "ipython",
    "version": 3
   },
   "file_extension": ".py",
   "mimetype": "text/x-python",
   "name": "python",
   "nbconvert_exporter": "python",
   "pygments_lexer": "ipython3",
   "version": "3.6.4"
  }
 },
 "nbformat": 4,
 "nbformat_minor": 2
}
